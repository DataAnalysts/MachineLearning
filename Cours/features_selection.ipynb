{
 "cells": [
  {
   "cell_type": "code",
   "execution_count": 1,
   "metadata": {
    "collapsed": true
   },
   "outputs": [],
   "source": [
    "import pandas as pd\n",
    "import numpy as np\n",
    "from sklearn.cross_validation import StratifiedKFold\n",
    "from sklearn.grid_search import GridSearchCV\n",
    "from sklearn.ensemble import RandomForestClassifier\n",
    "from sklearn.tree import DecisionTreeClassifier\n",
    "from sklearn.linear_model import Lasso\n",
    "from sklearn.preprocessing import MinMaxScaler, StandardScaler\n",
    "import matplotlib.pyplot as plt\n",
    "from sklearn.metrics import roc_auc_score\n",
    "%matplotlib inline"
   ]
  },
  {
   "cell_type": "markdown",
   "metadata": {},
   "source": [
    "#                                          FEATURE SELECTION\n",
    "\n",
    "## 1. Définitions\n",
    "- La sélection d'attributs est le processus qui permet de sélectionner un sous ensemble d'attributs pertinents (pour la construction d'un modèle) parmi l'ensemble des attributs disponibles. \n",
    "- Un algorithme de sélection d'attributs est une combinaison de technique de recherche du sous ensemble associée avec une métrique d'évaluation qui mesure la pertinence du sous ensemble. Le choix de la métrique a un grand impact sur le sous ensemble sélectionné.\n",
    "\n",
    "## 2. Qualité des attributs\n",
    "Il est important de pouvoir estimer l'utilité d'un attribut ou d'un sous ensemble d'attributs. Pour cela, deux approches sont possibles :\n",
    "- point de vue Statistique : utilisation des tests statistiques Z-test, T-test, ANOVA, ... (approche par filtre)\n",
    "- point de vue Apprentissage Automatique : utilisation de la validation croisée\n",
    "\n",
    "## 3. Interêt de la sélection d'attributs\n",
    "Les attributs peuvent être redondants (corrélation) ou non pertinents (bruit).\n",
    "\n",
    "Il existe deux cas importants où la sélection d'attributs est souhaitée:\n",
    "- On s'interesse uniquement aux attributs, on veut savoir lesquels sont pertinents (on ne souhaite pas faire de prédiction). Exemple : quelles sont les raisons(attributs) qui peuvent causer un cancer?\n",
    "- On s'interesse à la prédiction : l'interprétation des attributs n'est pas importante en soi, on souhaite construire le meilleur modèle prédictif.\n",
    "En général, si le nombre d'attributs n'est pas très grand, il n'est pas nécessaire de faire une sélection d'attributs (certains algorithmes font une selection en interne : Lasso, arbres de décision, ...)\n",
    "\n",
    "Si le temps d'exécution est important => faire une sélection au préalable.\n",
    "\n",
    "La sélection d'attributs permet de:\n",
    "- mieux interpréter le modèle en fournissant des explication simples grâce à des modèles simples\n",
    "- un temps réduit d'apprentissage et de prédiction si le nombre d'attribut au départ est très grand.\n",
    "- une meilleure généralization en réduisant les risques de surapprentissage\n",
    "\n",
    "## 4. Techniques de sélection\n",
    "- Filter methods (approche par filtres) : le choix des attributs se fait indépendemment de l'algorithme d'apprentissage. Le choix de l'attribut se fait sur base d'un critère propre au filtre (exemple : variance, Chi, information mutuelle ou corrélation avec l'attribut cible, ...).\n",
    "Cette approche est rapide mais peut produire un sous ensemble d'attributs qui n'est pas optimal pour le modèle que'on souhaite construire.\n",
    "Le plus grand désavantage de cette approche est que les attributs sont choisis indépendemment les uns des autres et ne tient donc pas compte des interractions possibles entre les attributs (un attribut non pertinent peut devenir pertinent s'il est combiné avec un autre attribut).\n",
    "\n",
    "\n",
    "- Wrapper methods (approche symbiose) : utilise un modèle prédictif pour mesure la performance des sous ensembles d'attributs. L'algorithme d'apprentissage est utilisé comme une boite noire qui reçoit un sous ensemble d'attributs et retourne un score de validation en utilisant la validation croisée.\n",
    "Cette technique est très couteuse puisqu'il faut tester tous les sous-ensembles possibles (avec n attributs, on a 2^n sous-ensemble possible), mais elle permet d'obtenir le meilleur sous-ensemble possible pour le modèle choisi (avec un risque de sur-apprentissage).\n",
    "Tester 2^n possibilités est impossible en pratique. Pour contourner ce problème : 3 techniques peuvent être utilisées : random selection, forward selection et backward elimination.\n",
    "\n",
    "- Embedded methods (approche intégrée) : se base uniquement sur l'algorithme d'apprentissage utilisé. Certains algorithmes sont capables au moment de l'apprentissage d'associer des poids aux attributs.\n",
    "L'algorithme fait son apprentissage sur tous les attributs et la sélection se fait sur base des poids obtenus après apprentissage.\n",
    "Par exemple, la technique de régularization LASSO associe un poids de zéro aux attributs non pertinents.\n"
   ]
  },
  {
   "cell_type": "code",
   "execution_count": 3,
   "metadata": {
    "collapsed": false
   },
   "outputs": [
    {
     "name": "stdout",
     "output_type": "stream",
     "text": [
      "(5822, 85)\n",
      "(4000, 85)\n"
     ]
    }
   ],
   "source": [
    "df = pd.read_csv('./ticdata2000.csv')\n",
    "Y = df.label\n",
    "X = df.drop(['label'], axis=1)\n",
    "print (X.shape)\n",
    "X.head()\n",
    "\n",
    "dfValid = pd.read_csv('./ticdata2000_Validation.csv')\n",
    "YValid = dfValid.label\n",
    "XValid = dfValid.drop(['label'], axis=1)\n",
    "print (XValid.shape)"
   ]
  },
  {
   "cell_type": "code",
   "execution_count": 4,
   "metadata": {
    "collapsed": true
   },
   "outputs": [],
   "source": [
    "#CHOIX DU MODELE A UTILISER\n",
    "#Pour des raisons de simplicité et de rapidité d'exécution, j'ai choisi les arbres de décision\n",
    "#Dans un vrai projet, il faudra tester différents modèles et voir quelle combinaison d'attributs/modèle donne\n",
    "#les meilleurs performances\n",
    "\n",
    "clf = DecisionTreeClassifier(random_state=1)\n",
    "params = {'max_depth':[3,5,7,9],\n",
    "          'min_samples_leaf' : [1,2,5]} #pour le gridSearch    \n",
    "metric = 'roc_auc'\n",
    "\n",
    "#nombre d'attributs à utiliser\n",
    "n_features=20"
   ]
  },
  {
   "cell_type": "code",
   "execution_count": 5,
   "metadata": {
    "collapsed": false
   },
   "outputs": [
    {
     "name": "stdout",
     "output_type": "stream",
     "text": [
      "0.73225539246 {'min_samples_leaf': 1, 'max_depth': 5}\n",
      "0.69475437703\n"
     ]
    }
   ],
   "source": [
    "#fonction d'apprentissage avec cross validation et gridsearch sur le premier dataset\n",
    "def performance(X,Y):\n",
    "    kf = StratifiedKFold(Y, n_folds=3, random_state=1)    \n",
    "    gs = GridSearchCV(clf, params, scoring=metric, cv=kf)\n",
    "    gs.fit(X,Y)\n",
    "    return gs\n",
    "\n",
    "#fonction de prédiction sur le dataset de validation\n",
    "def validation(clf1, Xv, Yv):\n",
    "    preds = clf1.predict_proba(Xv)[:,1]\n",
    "    return roc_auc_score(Yv, preds)\n",
    "\n",
    "gs = performance(X,Y)\n",
    "print (gs.best_score_, gs.best_params_)\n",
    "\n",
    "print (validation(gs.best_estimator_, XValid, YValid))"
   ]
  },
  {
   "cell_type": "code",
   "execution_count": 136,
   "metadata": {
    "collapsed": false
   },
   "outputs": [
    {
     "name": "stdout",
     "output_type": "stream",
     "text": [
      "5\n",
      "Selected features :  ['f1', 'f31', 'f30', 'f47', 'f5']\n",
      "0.720364766608 {'max_depth': 3, 'min_samples_leaf': 1}\n",
      "***************************\n",
      "10\n",
      "Selected features :  ['f1', 'f31', 'f30', 'f47', 'f5', 'f18', 'f37', 'f43', 'f15', 'f36']\n",
      "0.716727658089 {'max_depth': 3, 'min_samples_leaf': 1}\n",
      "***************************\n",
      "15\n",
      "Selected features :  ['f1', 'f31', 'f30', 'f47', 'f5', 'f18', 'f37', 'f43', 'f15', 'f36', 'f35', 'f28', 'f39', 'f10', 'f38']\n",
      "0.717246548792 {'max_depth': 3, 'min_samples_leaf': 1}\n",
      "***************************\n",
      "20\n",
      "Selected features :  ['f1', 'f31', 'f30', 'f47', 'f5', 'f18', 'f37', 'f43', 'f15', 'f36', 'f35', 'f28', 'f39', 'f10', 'f38', 'f59', 'f22', 'f13', 'f19', 'f17']\n",
      "0.736631317084 {'max_depth': 3, 'min_samples_leaf': 1}\n",
      "***************************\n",
      "25\n",
      "Selected features :  ['f1', 'f31', 'f30', 'f47', 'f5', 'f18', 'f37', 'f43', 'f15', 'f36', 'f35', 'f28', 'f39', 'f10', 'f38', 'f59', 'f22', 'f13', 'f19', 'f17', 'f23', 'f25', 'f12', 'f7', 'f24']\n",
      "0.737841636272 {'max_depth': 3, 'min_samples_leaf': 2}\n",
      "***************************\n",
      "30\n",
      "Selected features :  ['f1', 'f31', 'f30', 'f47', 'f5', 'f18', 'f37', 'f43', 'f15', 'f36', 'f35', 'f28', 'f39', 'f10', 'f38', 'f59', 'f22', 'f13', 'f19', 'f17', 'f23', 'f25', 'f12', 'f7', 'f24', 'f16', 'f14', 'f34', 'f9', 'f32']\n",
      "0.73610932807 {'max_depth': 3, 'min_samples_leaf': 2}\n",
      "***************************\n"
     ]
    }
   ],
   "source": [
    "#Approche filtre\n",
    "def variance_selection(X,n_features):\n",
    "    \n",
    "    variance = [np.var(X[i]) for i in X.columns]\n",
    "    variance = sorted( zip(variance,X.columns) ,reverse=True)[:n_features]   \n",
    "        \n",
    "    return [x[1] for x in variance]\n",
    "\n",
    "for n_features in [5,10,15,20, 25, 30]:\n",
    "    print n_features\n",
    "    varFeatures = variance_selection(X,n_features)\n",
    "    print 'Selected features : ', varFeatures\n",
    "    gs = performance(X[varFeatures], Y)\n",
    "    print gs.best_score_, gs.best_params_\n",
    "    \n",
    "    #print validation(gs.best_estimator_, XValid[varFeatures], YValid)\n",
    "    print '***************************'"
   ]
  },
  {
   "cell_type": "code",
   "execution_count": 7,
   "metadata": {
    "collapsed": false
   },
   "outputs": [
    {
     "name": "stdout",
     "output_type": "stream",
     "text": [
      "5\n",
      "Selected features :  ['f1', 'f31', 'f30', 'f47', 'f5']\n",
      "0.720364766608 {'min_samples_leaf': 1, 'max_depth': 3}\n",
      "***************************\n",
      "10\n",
      "Selected features :  ['f1', 'f31', 'f30', 'f47', 'f5', 'f18', 'f37', 'f43', 'f15', 'f36']\n",
      "0.716727658089 {'min_samples_leaf': 1, 'max_depth': 3}\n",
      "***************************\n",
      "15\n",
      "Selected features :  ['f1', 'f31', 'f30', 'f47', 'f5', 'f18', 'f37', 'f43', 'f15', 'f36', 'f35', 'f28', 'f39', 'f10', 'f38']\n",
      "0.717246548792 {'min_samples_leaf': 1, 'max_depth': 3}\n",
      "***************************\n",
      "20\n",
      "Selected features :  ['f1', 'f31', 'f30', 'f47', 'f5', 'f18', 'f37', 'f43', 'f15', 'f36', 'f35', 'f28', 'f39', 'f10', 'f38', 'f59', 'f22', 'f13', 'f19', 'f17']\n",
      "0.736631317084 {'min_samples_leaf': 1, 'max_depth': 3}\n",
      "***************************\n",
      "25\n",
      "Selected features :  ['f1', 'f31', 'f30', 'f47', 'f5', 'f18', 'f37', 'f43', 'f15', 'f36', 'f35', 'f28', 'f39', 'f10', 'f38', 'f59', 'f22', 'f13', 'f19', 'f17', 'f23', 'f25', 'f12', 'f7', 'f24']\n",
      "0.737841636272 {'min_samples_leaf': 2, 'max_depth': 3}\n",
      "***************************\n",
      "30\n",
      "Selected features :  ['f1', 'f31', 'f30', 'f47', 'f5', 'f18', 'f37', 'f43', 'f15', 'f36', 'f35', 'f28', 'f39', 'f10', 'f38', 'f59', 'f22', 'f13', 'f19', 'f17', 'f23', 'f25', 'f12', 'f7', 'f24', 'f16', 'f14', 'f34', 'f9', 'f32']\n",
      "0.73610932807 {'min_samples_leaf': 2, 'max_depth': 3}\n",
      "***************************\n"
     ]
    }
   ],
   "source": [
    "#Approche filtre\n",
    "def variance_selection(X,n_features):\n",
    "    \n",
    "    variance = [np.var(X[i]) for i in X.columns]\n",
    "    variance = sorted( zip(variance,X.columns) ,reverse=True)[:n_features]   \n",
    "        \n",
    "    return [x[1] for x in variance]\n",
    "\n",
    "for n_features in [5,10,15,20, 25, 30]:\n",
    "    print (n_features)\n",
    "    varFeatures = variance_selection(X,n_features)\n",
    "    print ('Selected features : ', varFeatures)\n",
    "    gs = performance(X[varFeatures], Y)\n",
    "    print (gs.best_score_, gs.best_params_)\n",
    "    \n",
    "    #print validation(gs.best_estimator_, XValid[varFeatures], YValid)\n",
    "    print ('***************************')"
   ]
  },
  {
   "cell_type": "code",
   "execution_count": null,
   "metadata": {
    "collapsed": false
   },
   "outputs": [],
   "source": []
  },
  {
   "cell_type": "code",
   "execution_count": 10,
   "metadata": {
    "collapsed": false
   },
   "outputs": [
    {
     "name": "stdout",
     "output_type": "stream",
     "text": [
      "10\n",
      "Selected features :  ['f47' 'f68' 'f82' 'f44' 'f43' 'f59' 'f61' 'f18' 'f42' 'f65']\n",
      "0.747043963374 {'min_samples_leaf': 5, 'max_depth': 5}\n",
      "************************\n",
      "best estamator  :   DecisionTreeClassifier(class_weight=None, criterion='gini', max_depth=5,\n",
      "            max_features=None, max_leaf_nodes=None, min_samples_leaf=5,\n",
      "            min_samples_split=2, min_weight_fraction_leaf=0.0,\n",
      "            presort=False, random_state=1, splitter='best')\n",
      "0.700421955066\n"
     ]
    }
   ],
   "source": [
    "#par filtre\n",
    "def pearson_selection(X,y,n_features):\n",
    "    \n",
    "    corr = np.abs( X.corrwith(Y))\n",
    "    corr = corr.sort_values(ascending=False)[:n_features]\n",
    "    return corr.index.values\n",
    "for n_features in [10]:\n",
    "    print (n_features)\n",
    "    pearsonFeatures = pearson_selection(X,Y,n_features)\n",
    "    print ('Selected features : ', pearsonFeatures)\n",
    "    gs = performance(X[pearsonFeatures], Y)\n",
    "    print (gs.best_score_, gs.best_params_)\n",
    "    print ('************************')\n",
    "    print(\"best estamator  :  \"  ,  gs.best_estimator_)\n",
    "\n",
    "    print (validation(gs.best_estimator_, XValid[pearsonFeatures], YValid))"
   ]
  },
  {
   "cell_type": "code",
   "execution_count": null,
   "metadata": {
    "collapsed": false
   },
   "outputs": [],
   "source": []
  },
  {
   "cell_type": "code",
   "execution_count": 147,
   "metadata": {
    "collapsed": false
   },
   "outputs": [
    {
     "name": "stdout",
     "output_type": "stream",
     "text": [
      "Selected features :  ['f47', 'f1', 'f59', 'f68', 'f10', 'f9', 'f17', 'f30', 'f43', 'f40', 'f27', 'f44', 'f7', 'f31', 'f39', 'f14', 'f37', 'f28', 'f23', 'f22', 'f36', 'f42', 'f18', 'f82', 'f19', 'f15', 'f5', 'f26', 'f12', 'f16']\n",
      "0.738227243814 {'max_depth': 5, 'min_samples_leaf': 1}\n",
      "0.693853059565\n"
     ]
    }
   ],
   "source": [
    "#Approche integree\n",
    "def random_forest_selection(X,Y,n_features):\n",
    "    \n",
    "    params = {'max_depth':[3,5,7,9],\n",
    "              'min_samples_leaf' : [1,2,5]}\n",
    "    \n",
    "    clf = RandomForestClassifier(random_state=1, n_jobs=2)\n",
    "    gs = GridSearchCV(clf, params)\n",
    "    gs.fit(X,Y)\n",
    "    bestClf = gs.best_estimator_\n",
    "    rf = bestClf.feature_importances_\n",
    "    \n",
    "    rf=zip(rf,X.columns)\n",
    "    rf=sorted(rf,reverse=True)[:n_features]\n",
    " \n",
    "    return [x[1] for x in rf]\n",
    "rfFeatures = random_forest_selection(X,Y,n_features)\n",
    "print 'Selected features : ', rfFeatures\n",
    "gs = performance(X[rfFeatures], Y)\n",
    "print gs.best_score_, gs.best_params_\n",
    "\n",
    "print validation(gs.best_estimator_, XValid[rfFeatures], YValid)"
   ]
  },
  {
   "cell_type": "code",
   "execution_count": null,
   "metadata": {
    "collapsed": false
   },
   "outputs": [],
   "source": []
  },
  {
   "cell_type": "code",
   "execution_count": 87,
   "metadata": {
    "collapsed": false
   },
   "outputs": [
    {
     "name": "stdout",
     "output_type": "stream",
     "text": [
      "Selected features :  ['f47', 'f82', 'f59', 'f16', 'f44', 'f85', 'f76', 'f58', 'f83', 'f4']\n",
      "0.735608393375 {'max_depth': 5, 'min_samples_leaf': 5}\n",
      "0.683827996908\n"
     ]
    }
   ],
   "source": [
    "def lasso_selection(X,Y,n_features):\n",
    "    \n",
    "    cols = X.columns\n",
    "    X=StandardScaler().fit_transform(X)\n",
    "  \n",
    "    params = {'alpha':[0.0001, 0.001, 0.01, 0.1, 1, 2, 5]}\n",
    "    \n",
    "    clf = Lasso(random_state=1)\n",
    "    gs = GridSearchCV(clf, params)\n",
    "    gs.fit(X,Y)\n",
    "    ls = gs.best_estimator_.coef_\n",
    "    \n",
    "    ls=zip(ls,cols)\n",
    "    ls=sorted(ls,reverse=True)[:n_features]\n",
    " \n",
    "    return [x[1] for x in ls]\n",
    "lassoFeatures = lasso_selection(X,Y,n_features)\n",
    "print 'Selected features : ', lassoFeatures\n",
    "gs = performance(X[lassoFeatures], Y)\n",
    "print gs.best_score_, gs.best_params_\n",
    "\n",
    "print validation(gs.best_estimator_, XValid[lassoFeatures], YValid)"
   ]
  },
  {
   "cell_type": "code",
   "execution_count": null,
   "metadata": {
    "collapsed": false
   },
   "outputs": [],
   "source": []
  },
  {
   "cell_type": "code",
   "execution_count": 150,
   "metadata": {
    "collapsed": true
   },
   "outputs": [],
   "source": [
    "#Wrapper\n",
    "def forward_selection(X,Y,n_features):\n",
    "    \n",
    "    fsFeatures = []\n",
    "    startFeatures = list(X.columns.values)\n",
    "    listOfScores=[]; listValidationScores=[]\n",
    "    \n",
    "    while( len(startFeatures) > 0 ) : # len(fsFeatures)<n_features\n",
    "        bestScore = 0; bestFeature = None; bestClf=None\n",
    "        for feature in startFeatures:    \n",
    "            sousEnsemble = fsFeatures+[feature]\n",
    "            gs = performance(X[sousEnsemble],Y)\n",
    "            if gs.best_score_>bestScore:\n",
    "                bestScore = gs.best_score_\n",
    "                bestFeature = feature\n",
    "                bestClf = gs.best_estimator_\n",
    "                \n",
    "        fsFeatures.append(bestFeature)\n",
    "        listOfScores.append(bestScore)\n",
    "        listValidationScores.append( validation(bestClf, XValid[fsFeatures], YValid) )\n",
    "        startFeatures = list( set(startFeatures) - set(fsFeatures) )\n",
    "        \n",
    "    return fsFeatures,listOfScores, listValidationScores"
   ]
  },
  {
   "cell_type": "code",
   "execution_count": 152,
   "metadata": {
    "collapsed": false
   },
   "outputs": [],
   "source": [
    "a,b,c = forward_selection(X[pearsonFeatures],Y,n_features)"
   ]
  },
  {
   "cell_type": "code",
   "execution_count": 155,
   "metadata": {
    "collapsed": false
   },
   "outputs": [
    {
     "data": {
      "image/png": "[encoded data removed]",
      "text/plain": [
       "<matplotlib.figure.Figure at 0x7f8720d8b490>"
      ]
     },
     "metadata": {},
     "output_type": "display_data"
    }
   ],
   "source": [
    "plt.figure(figsize=(20,10))\n",
    "plt.plot(b,'b')\n",
    "plt.plot(c,'r')\n",
    "_=plt.xticks(range(len(a)), a)"
   ]
  },
  {
   "cell_type": "code",
   "execution_count": 153,
   "metadata": {
    "collapsed": false
   },
   "outputs": [
    {
     "data": {
      "text/plain": [
       "['f47', 'f59', 'f82', 'f42', 'f61', 'f18', 'f68', 'f65', 'f44', 'f43']"
      ]
     },
     "execution_count": 153,
     "metadata": {},
     "output_type": "execute_result"
    }
   ],
   "source": []
  },
  {
   "cell_type": "code",
   "execution_count": null,
   "metadata": {
    "collapsed": true
   },
   "outputs": [],
   "source": []
  }
 ],
 "metadata": {
  "kernelspec": {
   "display_name": "Python 2",
   "language": "python",
   "name": "python2"
  },
  "language_info": {
   "codemirror_mode": {
    "name": "ipython",
    "version": 2
   },
   "file_extension": ".py",
   "mimetype": "text/x-python",
   "name": "python",
   "nbconvert_exporter": "python",
   "pygments_lexer": "ipython2",
   "version": "2.7.11"
  }
 },
 "nbformat": 4,
 "nbformat_minor": 0
}
