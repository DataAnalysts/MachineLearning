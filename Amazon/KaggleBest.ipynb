{
 "cells": [
  {
   "cell_type": "code",
   "execution_count": 1,
   "metadata": {
    "collapsed": true
   },
   "outputs": [],
   "source": [
    "import pandas as pd\n",
    "import numpy as np"
   ]
  },
  {
   "cell_type": "code",
   "execution_count": 11,
   "metadata": {
    "collapsed": false
   },
   "outputs": [
    {
     "data": {
      "text/html": [
       "<div>\n",
       "<table border=\"1\" class=\"dataframe\">\n",
       "  <thead>\n",
       "    <tr style=\"text-align: right;\">\n",
       "      <th></th>\n",
       "      <th>RESOURCE</th>\n",
       "      <th>MGR_ID</th>\n",
       "      <th>ROLE_ROLLUP_1</th>\n",
       "      <th>ROLE_ROLLUP_2</th>\n",
       "      <th>ROLE_DEPTNAME</th>\n",
       "      <th>ROLE_TITLE</th>\n",
       "      <th>ROLE_FAMILY_DESC</th>\n",
       "      <th>ROLE_FAMILY</th>\n",
       "      <th>ROLE_CODE</th>\n",
       "    </tr>\n",
       "  </thead>\n",
       "  <tbody>\n",
       "    <tr>\n",
       "      <th>0</th>\n",
       "      <td>39353</td>\n",
       "      <td>85475</td>\n",
       "      <td>117961</td>\n",
       "      <td>118300</td>\n",
       "      <td>123472</td>\n",
       "      <td>117905</td>\n",
       "      <td>117906</td>\n",
       "      <td>290919</td>\n",
       "      <td>117908</td>\n",
       "    </tr>\n",
       "    <tr>\n",
       "      <th>1</th>\n",
       "      <td>17183</td>\n",
       "      <td>1540</td>\n",
       "      <td>117961</td>\n",
       "      <td>118343</td>\n",
       "      <td>123125</td>\n",
       "      <td>118536</td>\n",
       "      <td>118536</td>\n",
       "      <td>308574</td>\n",
       "      <td>118539</td>\n",
       "    </tr>\n",
       "    <tr>\n",
       "      <th>2</th>\n",
       "      <td>36724</td>\n",
       "      <td>14457</td>\n",
       "      <td>118219</td>\n",
       "      <td>118220</td>\n",
       "      <td>117884</td>\n",
       "      <td>117879</td>\n",
       "      <td>267952</td>\n",
       "      <td>19721</td>\n",
       "      <td>117880</td>\n",
       "    </tr>\n",
       "    <tr>\n",
       "      <th>3</th>\n",
       "      <td>36135</td>\n",
       "      <td>5396</td>\n",
       "      <td>117961</td>\n",
       "      <td>118343</td>\n",
       "      <td>119993</td>\n",
       "      <td>118321</td>\n",
       "      <td>240983</td>\n",
       "      <td>290919</td>\n",
       "      <td>118322</td>\n",
       "    </tr>\n",
       "    <tr>\n",
       "      <th>4</th>\n",
       "      <td>42680</td>\n",
       "      <td>5905</td>\n",
       "      <td>117929</td>\n",
       "      <td>117930</td>\n",
       "      <td>119569</td>\n",
       "      <td>119323</td>\n",
       "      <td>123932</td>\n",
       "      <td>19793</td>\n",
       "      <td>119325</td>\n",
       "    </tr>\n",
       "  </tbody>\n",
       "</table>\n",
       "</div>"
      ],
      "text/plain": [
       "   RESOURCE  MGR_ID  ROLE_ROLLUP_1  ROLE_ROLLUP_2  ROLE_DEPTNAME  ROLE_TITLE  \\\n",
       "0     39353   85475         117961         118300         123472      117905   \n",
       "1     17183    1540         117961         118343         123125      118536   \n",
       "2     36724   14457         118219         118220         117884      117879   \n",
       "3     36135    5396         117961         118343         119993      118321   \n",
       "4     42680    5905         117929         117930         119569      119323   \n",
       "\n",
       "   ROLE_FAMILY_DESC  ROLE_FAMILY  ROLE_CODE  \n",
       "0            117906       290919     117908  \n",
       "1            118536       308574     118539  \n",
       "2            267952        19721     117880  \n",
       "3            240983       290919     118322  \n",
       "4            123932        19793     119325  "
      ]
     },
     "execution_count": 11,
     "metadata": {},
     "output_type": "execute_result"
    }
   ],
   "source": [
    "\n",
    "df.head()"
   ]
  },
  {
   "cell_type": "code",
   "execution_count": 40,
   "metadata": {
    "collapsed": false
   },
   "outputs": [
    {
     "data": {
      "text/html": [
       "<div>\n",
       "<table border=\"1\" class=\"dataframe\">\n",
       "  <thead>\n",
       "    <tr style=\"text-align: right;\">\n",
       "      <th></th>\n",
       "      <th>RESOURCE</th>\n",
       "      <th>MGR_ID</th>\n",
       "      <th>ROLE_ROLLUP_1</th>\n",
       "      <th>ROLE_ROLLUP_2</th>\n",
       "      <th>ROLE_DEPTNAME</th>\n",
       "      <th>ROLE_TITLE</th>\n",
       "      <th>ROLE_FAMILY_DESC</th>\n",
       "      <th>ROLE_FAMILY</th>\n",
       "      <th>ROLE_CODE</th>\n",
       "    </tr>\n",
       "  </thead>\n",
       "  <tbody>\n",
       "    <tr>\n",
       "      <th>RESOURCE</th>\n",
       "      <td>NaN</td>\n",
       "      <td>6</td>\n",
       "      <td>2</td>\n",
       "      <td>3</td>\n",
       "      <td>4</td>\n",
       "      <td>4</td>\n",
       "      <td>5</td>\n",
       "      <td>3</td>\n",
       "      <td>4</td>\n",
       "    </tr>\n",
       "    <tr>\n",
       "      <th>MGR_ID</th>\n",
       "      <td>16</td>\n",
       "      <td>NaN</td>\n",
       "      <td>1</td>\n",
       "      <td>1</td>\n",
       "      <td>2</td>\n",
       "      <td>3</td>\n",
       "      <td>3</td>\n",
       "      <td>2</td>\n",
       "      <td>3</td>\n",
       "    </tr>\n",
       "    <tr>\n",
       "      <th>ROLE_ROLLUP_1</th>\n",
       "      <td>94.4</td>\n",
       "      <td>49.5</td>\n",
       "      <td>NaN</td>\n",
       "      <td>2</td>\n",
       "      <td>13.3</td>\n",
       "      <td>19.3</td>\n",
       "      <td>37.9</td>\n",
       "      <td>11</td>\n",
       "      <td>19.3</td>\n",
       "    </tr>\n",
       "    <tr>\n",
       "      <th>ROLE_ROLLUP_2</th>\n",
       "      <td>123.4</td>\n",
       "      <td>60.4</td>\n",
       "      <td>1</td>\n",
       "      <td>NaN</td>\n",
       "      <td>22.4</td>\n",
       "      <td>32.4</td>\n",
       "      <td>48.4</td>\n",
       "      <td>13.4</td>\n",
       "      <td>32.4</td>\n",
       "    </tr>\n",
       "    <tr>\n",
       "      <th>ROLE_DEPTNAME</th>\n",
       "      <td>92</td>\n",
       "      <td>20</td>\n",
       "      <td>5</td>\n",
       "      <td>6</td>\n",
       "      <td>NaN</td>\n",
       "      <td>14</td>\n",
       "      <td>23</td>\n",
       "      <td>7</td>\n",
       "      <td>14</td>\n",
       "    </tr>\n",
       "  </tbody>\n",
       "</table>\n",
       "</div>"
      ],
      "text/plain": [
       "              RESOURCE MGR_ID ROLE_ROLLUP_1 ROLE_ROLLUP_2 ROLE_DEPTNAME  \\\n",
       "RESOURCE           NaN      6             2             3             4   \n",
       "MGR_ID              16    NaN             1             1             2   \n",
       "ROLE_ROLLUP_1     94.4   49.5           NaN             2          13.3   \n",
       "ROLE_ROLLUP_2    123.4   60.4             1           NaN          22.4   \n",
       "ROLE_DEPTNAME       92     20             5             6           NaN   \n",
       "\n",
       "              ROLE_TITLE ROLE_FAMILY_DESC ROLE_FAMILY ROLE_CODE  \n",
       "RESOURCE               4                5           3         4  \n",
       "MGR_ID                 3                3           2         3  \n",
       "ROLE_ROLLUP_1       19.3             37.9          11      19.3  \n",
       "ROLE_ROLLUP_2       32.4             48.4        13.4      32.4  \n",
       "ROLE_DEPTNAME         14               23           7        14  "
      ]
     },
     "execution_count": 40,
     "metadata": {},
     "output_type": "execute_result"
    }
   ],
   "source": [
    "Dfg.head()"
   ]
  },
  {
   "cell_type": "code",
   "execution_count": 38,
   "metadata": {
    "collapsed": false
   },
   "outputs": [],
   "source": [
    "sum(df[j].values==25)\n",
    "Dfg = pd.DataFrame(columns=df.columns.values , index= df.columns.values)"
   ]
  },
  {
   "cell_type": "code",
   "execution_count": 54,
   "metadata": {
    "collapsed": false
   },
   "outputs": [
    {
     "name": "stdout",
     "output_type": "stream",
     "text": [
      "ROLE_ROLLUP_2 ROLE_ROLLUP_1 1.0\n",
      "ROLE_TITLE ROLE_FAMILY 1.0\n",
      "ROLE_TITLE ROLE_CODE 1.0\n",
      "ROLE_CODE ROLE_TITLE 1.0\n",
      "ROLE_CODE ROLE_FAMILY 1.0\n"
     ]
    }
   ],
   "source": [
    "for o in Dfg.columns.values :\n",
    "    for k in Dfg.columns.values :\n",
    "        if Dfg.loc[o,k] == 1 :\n",
    "            print  o , k , Dfg.loc[o,k]"
   ]
  },
  {
   "cell_type": "code",
   "execution_count": 52,
   "metadata": {
    "collapsed": false,
    "scrolled": true
   },
   "outputs": [
    {
     "name": "stdout",
     "output_type": "stream",
     "text": [
      "RESOURCE\n",
      "==========\n",
      "==========\n",
      "==========\n",
      "==========\n",
      "==========\n",
      "==========\n",
      "==========\n",
      "==========\n",
      "MGR_ID\n",
      "==========\n",
      "==========\n",
      "==========\n",
      "==========\n",
      "==========\n",
      "==========\n",
      "==========\n",
      "==========\n",
      "ROLE_ROLLUP_1\n",
      "==========\n",
      "==========\n",
      "==========\n",
      "==========\n",
      "==========\n",
      "==========\n",
      "==========\n",
      "==========\n",
      "ROLE_ROLLUP_2\n",
      "==========\n",
      "==========\n",
      "==========\n",
      "==========\n",
      "==========\n",
      "==========\n",
      "==========\n",
      "==========\n",
      "ROLE_DEPTNAME\n",
      "==========\n",
      "==========\n",
      "==========\n",
      "==========\n",
      "==========\n",
      "==========\n",
      "==========\n",
      "==========\n",
      "ROLE_TITLE\n",
      "==========\n",
      "==========\n",
      "==========\n",
      "==========\n",
      "==========\n",
      "==========\n",
      "==========\n",
      "==========\n",
      "ROLE_FAMILY_DESC\n",
      "==========\n",
      "==========\n",
      "==========\n",
      "==========\n",
      "==========\n",
      "==========\n",
      "==========\n",
      "==========\n",
      "ROLE_FAMILY\n",
      "==========\n",
      "==========\n",
      "==========\n",
      "==========\n",
      "==========\n",
      "==========\n",
      "==========\n",
      "==========\n",
      "ROLE_CODE\n",
      "==========\n",
      "==========\n",
      "==========\n",
      "==========\n",
      "==========\n",
      "==========\n",
      "==========\n",
      "==========\n"
     ]
    }
   ],
   "source": [
    "#df = df.drop('ACTION' , axis = 1 )\n",
    "\n",
    "for i in df.columns.values :\n",
    "    print i \n",
    "    for j in df.columns.values :\n",
    "        if i != j :\n",
    "            print \"==========\"\n",
    "            count = df[j].value_counts()\n",
    "            x=  df.groupby(i)[j].apply(lambda f : len(np.unique(f)))\n",
    "            Dfg.ix[i,j] = x.quantile(0.98)\n",
    "    \n",
    "    "
   ]
  },
  {
   "cell_type": "code",
   "execution_count": 9,
   "metadata": {
    "collapsed": false
   },
   "outputs": [
    {
     "data": {
      "text/plain": [
       "Int64Index([ 4675, 79092, 25993, 75078,  3853,  6977, 75834, 32270, 42085,\n",
       "            17308,\n",
       "            ...\n",
       "            28793, 18243, 20290, 26407, 43202, 35014, 75535, 30936, 89856,\n",
       "            16376],\n",
       "           dtype='int64', length=7518)"
      ]
     },
     "execution_count": 9,
     "metadata": {},
     "output_type": "execute_result"
    }
   ],
   "source": [
    "df[j].value_counts().index[]"
   ]
  },
  {
   "cell_type": "code",
   "execution_count": 15,
   "metadata": {
    "collapsed": false
   },
   "outputs": [
    {
     "name": "stdout",
     "output_type": "stream",
     "text": [
      "RESOURCE  MGR_ID\n",
      "0         33         9\n",
      "          36         9\n",
      "          4417      10\n",
      "          4468      10\n",
      "          4583       9\n",
      "          51138     12\n",
      "          71215      9\n",
      "          72347      9\n",
      "          87908     11\n",
      "38        47         9\n",
      "          70         9\n",
      "          8283       9\n",
      "          13848      9\n",
      "          20818      9\n",
      "          60121     11\n",
      "136       4500       9\n",
      "138       3053       9\n",
      "          17713      9\n",
      "153       154       13\n",
      "          163        9\n",
      "          168        9\n",
      "          169        9\n",
      "          174        9\n",
      "          190        9\n",
      "          193        9\n",
      "          196       17\n",
      "          8203       9\n",
      "          19760      9\n",
      "          71215      9\n",
      "199       5432       9\n",
      "                    ..\n",
      "312039    52426      9\n",
      "312046    1954       9\n",
      "          24169      9\n",
      "          49655      9\n",
      "          50799      9\n",
      "          55805      9\n",
      "          101472     9\n",
      "312081    16922     12\n",
      "312088    15781      9\n",
      "312089    15566      8\n",
      "          15781     10\n",
      "312103    16922      9\n",
      "312116    105908    13\n",
      "312121    49574      9\n",
      "312122    3869       9\n",
      "          7012       9\n",
      "312129    8415       9\n",
      "          18190      9\n",
      "          19832      9\n",
      "312130    1325       9\n",
      "          14638     11\n",
      "          54618     13\n",
      "312131    25813      9\n",
      "312132    4084       9\n",
      "312136    51178      9\n",
      "312139    3966       9\n",
      "312140    3966       9\n",
      "312152    4641       9\n",
      "312153    3048       9\n",
      "          50781      9\n",
      "dtype: int64\n"
     ]
    }
   ],
   "source": [
    "print x "
   ]
  },
  {
   "cell_type": "code",
   "execution_count": null,
   "metadata": {
    "collapsed": true
   },
   "outputs": [],
   "source": []
  }
 ],
 "metadata": {
  "kernelspec": {
   "display_name": "Python 2",
   "language": "python",
   "name": "python2"
  },
  "language_info": {
   "codemirror_mode": {
    "name": "ipython",
    "version": 2
   },
   "file_extension": ".py",
   "mimetype": "text/x-python",
   "name": "python",
   "nbconvert_exporter": "python",
   "pygments_lexer": "ipython2",
   "version": "2.7.11"
  }
 },
 "nbformat": 4,
 "nbformat_minor": 0
}
