{
 "cells": [
  {
   "cell_type": "code",
   "execution_count": 204,
   "metadata": {
    "collapsed": true
   },
   "outputs": [],
   "source": [
    "import pandas as pd\n",
    "import numpy as np\n",
    "from scipy import sparse\n",
    "from sklearn import metrics\n",
    "from sklearn.base import clone\n",
    "from sklearn.linear_model import LogisticRegression ,Lasso\n",
    "from sklearn.preprocessing import OneHotEncoder\n",
    "from sklearn.ensemble import  ExtraTreesClassifier , GradientBoostingClassifier , RandomForestClassifier\n",
    "from sklearn.cross_validation import StratifiedKFold , StratifiedShuffleSplit , cross_val_score\n",
    "from sklearn.naive_bayes import MultinomialNB , BernoulliNB\n",
    "from sklearn.svm import LinearSVC , SVC\n",
    "from sklearn.neighbors import KNeighborsClassifier\n",
    "def getScoreClf(DF , Y , clf ):\n",
    "    clf = clone(clf)\n",
    "    return cross_val_score(clf , DF , Y , scoring='roc_auc' ,  cv = 2 , n_jobs=-1)\n",
    "def stackingBuildProbaMatrix(Clfs , Y ):\n",
    "    empty = pd.DataFrame()\n",
    "    for clf in Clfs:\n",
    "        Clf = clf[1]\n",
    "        DF = clf[2]\n",
    "        name = clf[0]\n",
    "        ET = Clf.predict_proba(DF)[:,1]\n",
    "        empty[name]=ET\n",
    "        #clf['clf'].fit(clf['X'],Y)\n",
    "        #empty[clf[0]]=clf[1].predict_proba(clf[2])\n",
    "    empty['Action'] = Y\n",
    "    return empty\n",
    "def stackingBuildProbaMatrixSend(Clfs ):\n",
    "    empty = pd.DataFrame()\n",
    "    for clf in Clfs:\n",
    "        Clf = clf[1]\n",
    "        DF = clf[2]\n",
    "        name = clf[0]\n",
    "        ET = Clf.predict_proba(DF)[:,1]\n",
    "        empty[name]=ET\n",
    "        #clf['clf'].fit(clf['X'],Y)\n",
    "        #empty[clf[0]]=clf[1].predict_proba(clf[2])\n",
    "    #empty['Action'] = Y\n",
    "    return empty\n",
    "def getChanges(df , Y, column , clf , seuil ):\n",
    "    DF = df.copy()\n",
    "    R = DF[column].value_counts()\n",
    "    Ind = list(R.index)\n",
    "    R = list(R)\n",
    "    Replace = Ind[R.index(min(R))]\n",
    "    for i in range(0 , len(R)):\n",
    "        if R[i] <= seuil :\n",
    "            DF.loc[df[column] == Ind[i] , column] = Replace\n",
    "    return  df         "
   ]
  },
  {
   "cell_type": "code",
   "execution_count": 191,
   "metadata": {
    "collapsed": true
   },
   "outputs": [],
   "source": [
    "DF = pd.read_csv('De.csv')\n",
    "TRAIN = pd.DataFrame(DF)\n",
    "DG = pd.read_csv('TEST.csv')\n",
    "TEST= pd.DataFrame(DG)\n",
    "Y = pd.read_csv('tr.csv')\n",
    "Y=pd.DataFrame(Y)\n",
    "Y=Y.ACTION.values\n",
    "all_data = np.vstack((TRAIN, TEST))\n",
    "train_rows = len(TRAIN)\n",
    "\n",
    "X_all = OneHotEncoder().fit_transform(all_data.astype(str))\n",
    "X_train_all = X_all[:train_rows,:]\n",
    "X_test_all = X_all[train_rows:,:] "
   ]
  },
  {
   "cell_type": "code",
   "execution_count": 9,
   "metadata": {
    "collapsed": false
   },
   "outputs": [],
   "source": [
    "Sss = StratifiedShuffleSplit(Y, 1, test_size=0.2, random_state=0)"
   ]
  },
  {
   "cell_type": "code",
   "execution_count": 16,
   "metadata": {
    "collapsed": false
   },
   "outputs": [],
   "source": [
    "Sss = StratifiedShuffleSplit(Y, 1, test_size=0.2, random_state=0)\n",
    "for train , test in Sss:\n",
    "    TRAIN , TEST , YTRAIN , YTEST = X_train_all[train,:],X_train_all[test,:] , Y[train] , Y[test]"
   ]
  },
  {
   "cell_type": "code",
   "execution_count": 119,
   "metadata": {
    "collapsed": true
   },
   "outputs": [],
   "source": [
    "Clf = LogisticRegression(C =  0.8 , tol = 1,   penalty = 'l2' , fit_intercept = False , class_weight='balanced' , max_iter=10000 , multi_class = 'ovr' , solver= 'lbfgs' , random_state=2)\n",
    "ABC = ExtraTreesClassifier(n_estimators= 200 , min_samples_split = 5,min_samples_leaf=0.01, criterion = 'entropy',random_state=1 , n_jobs = -1 )\n",
    "NA = MultinomialNB(alpha= 0.04 )\n",
    "SVC = SVC(probability=True, random_state=1, C= 9, gamma= 0.5)"
   ]
  },
  {
   "cell_type": "code",
   "execution_count": 121,
   "metadata": {
    "collapsed": false
   },
   "outputs": [],
   "source": [
    "Korona = pd.DataFrame()\n",
    "Korona['LogisticRegression'] = Clf.predict_proba(TRAIN)[:,1]\n",
    "Korona['ExtraTreesClassifier'] = ABC.predict_proba(TRAIN)[:,1]\n",
    "Korona['MultinomialNB'] = NA.predict_proba(TRAIN)[:,1]\n",
    "Korona['SVC'] = SVC.predict_proba(TRAIN)[:,1]"
   ]
  },
  {
   "cell_type": "code",
   "execution_count": 120,
   "metadata": {
    "collapsed": false
   },
   "outputs": [
    {
     "data": {
      "text/plain": [
       "SVC(C=9, cache_size=200, class_weight=None, coef0=0.0,\n",
       "  decision_function_shape=None, degree=3, gamma=0.5, kernel='rbf',\n",
       "  max_iter=-1, probability=True, random_state=1, shrinking=True, tol=0.001,\n",
       "  verbose=False)"
      ]
     },
     "execution_count": 120,
     "metadata": {},
     "output_type": "execute_result"
    }
   ],
   "source": [
    "Clf.fit(TRAIN ,  YTRAIN)\n",
    "ABC.fit(TRAIN ,  YTRAIN)\n",
    "NA.fit(TRAIN ,  YTRAIN)\n",
    "SVC.fit(TRAIN ,  YTRAIN)\n",
    "########################\n",
    "Korona = pd.DataFrame()\n",
    "Korona['LogisticRegression'] = Clf.predict_proba(TRAIN)[:,1]\n",
    "Korona['ExtraTreesClassifier'] = ABC.predict_proba(TRAIN)[:,1]\n",
    "Korona['MultinomialNB'] = NA.predict_proba(TRAIN)[:,1]\n",
    "Korona['SVC'] = SVC.predict_proba(TRAIN)[:,1]\n",
    "Korona['Action'] = YTRAIN\n",
    "########################"
   ]
  },
  {
   "cell_type": "code",
   "execution_count": 174,
   "metadata": {
    "collapsed": false
   },
   "outputs": [
    {
     "name": "stdout",
     "output_type": "stream",
     "text": [
      "0.999923765206\n"
     ]
    }
   ],
   "source": [
    "Reg3 = LogisticRegression(C= 200 , intercept_scaling = 100, class_weight =\"balanced\" , random_state=1)\n",
    "print(getScoreClf(Korona.drop(['Action','SVC'] , axis = 1) , Korona.Action , Reg3).mean())"
   ]
  },
  {
   "cell_type": "code",
   "execution_count": 127,
   "metadata": {
    "collapsed": true
   },
   "outputs": [],
   "source": [
    "Korona1 = pd.DataFrame()\n",
    "Korona1['LogisticRegression'] = Clf.predict_proba(TEST)[:,1]\n",
    "Korona1['ExtraTreesClassifier'] = ABC.predict_proba(TEST)[:,1]\n",
    "Korona1['MultinomialNB'] = NA.predict_proba(TEST)[:,1]\n",
    "Korona1['SVC'] = SVC.predict_proba(TEST)[:,1]\n",
    "##Korona['Action'] = YTRAIN"
   ]
  },
  {
   "cell_type": "code",
   "execution_count": 198,
   "metadata": {
    "collapsed": false
   },
   "outputs": [
    {
     "data": {
      "text/plain": [
       "RandomForestClassifier(bootstrap=True, class_weight=None, criterion='gini',\n",
       "            max_depth=22, max_features='auto', max_leaf_nodes=None,\n",
       "            min_samples_leaf=9, min_samples_split=19,\n",
       "            min_weight_fraction_leaf=0.0, n_estimators=97, n_jobs=1,\n",
       "            oob_score=False, random_state=5, verbose=0, warm_start=False)"
      ]
     },
     "execution_count": 198,
     "metadata": {},
     "output_type": "execute_result"
    }
   ],
   "source": [
    "clf4 = RandomForestClassifier(max_depth = 22 , min_samples_leaf = 9 , min_samples_split = 19 ,n_estimators = 97, random_state=5)\n",
    "Regle = [['ROLE_CODE' ,  5] , ['ROLE_ROLLUP_2' , 1 ] ,['ROLE_FAMILY' , 4 ] ]\n",
    "DF = TRAIN.copy()\n",
    "for r in Regle:\n",
    "    DF = getChanges(DF , Y , r[0], clf4 , r[1])\n",
    "clf4.fit(DF , Y)\n"
   ]
  },
  {
   "cell_type": "code",
   "execution_count": 275,
   "metadata": {
    "collapsed": false
   },
   "outputs": [],
   "source": [
    "DT = pd.read_csv('TR_vot_num.csv' )\n",
    "DT = pd.DataFrame(DT)\n",
    "DT.head()\n",
    "\n",
    "DT2 = pd.read_csv('TS_vot_num.csv' )\n",
    "DT2 = pd.DataFrame(DT2)\n",
    "#DT2.head()"
   ]
  },
  {
   "cell_type": "code",
   "execution_count": 276,
   "metadata": {
    "collapsed": false
   },
   "outputs": [
    {
     "data": {
      "text/html": [
       "<div>\n",
       "<table border=\"1\" class=\"dataframe\">\n",
       "  <thead>\n",
       "    <tr style=\"text-align: right;\">\n",
       "      <th></th>\n",
       "      <th>Unnamed: 0</th>\n",
       "      <th>Voting</th>\n",
       "    </tr>\n",
       "  </thead>\n",
       "  <tbody>\n",
       "    <tr>\n",
       "      <th>0</th>\n",
       "      <td>0</td>\n",
       "      <td>0.838805</td>\n",
       "    </tr>\n",
       "    <tr>\n",
       "      <th>1</th>\n",
       "      <td>1</td>\n",
       "      <td>0.975624</td>\n",
       "    </tr>\n",
       "    <tr>\n",
       "      <th>2</th>\n",
       "      <td>2</td>\n",
       "      <td>0.989321</td>\n",
       "    </tr>\n",
       "    <tr>\n",
       "      <th>3</th>\n",
       "      <td>3</td>\n",
       "      <td>0.988575</td>\n",
       "    </tr>\n",
       "    <tr>\n",
       "      <th>4</th>\n",
       "      <td>4</td>\n",
       "      <td>0.989956</td>\n",
       "    </tr>\n",
       "  </tbody>\n",
       "</table>\n",
       "</div>"
      ],
      "text/plain": [
       "   Unnamed: 0    Voting\n",
       "0           0  0.838805\n",
       "1           1  0.975624\n",
       "2           2  0.989321\n",
       "3           3  0.988575\n",
       "4           4  0.989956"
      ]
     },
     "execution_count": 276,
     "metadata": {},
     "output_type": "execute_result"
    }
   ],
   "source": [
    "DT2.head()"
   ]
  },
  {
   "cell_type": "code",
   "execution_count": 133,
   "metadata": {
    "collapsed": false
   },
   "outputs": [],
   "source": [
    "## Finishing With THE TRAINING ::"
   ]
  },
  {
   "cell_type": "code",
   "execution_count": 178,
   "metadata": {
    "collapsed": false
   },
   "outputs": [
    {
     "data": {
      "text/plain": [
       "SVC(C=9, cache_size=200, class_weight=None, coef0=0.0,\n",
       "  decision_function_shape=None, degree=3, gamma=0.5, kernel='rbf',\n",
       "  max_iter=-1, probability=True, random_state=1, shrinking=True, tol=0.001,\n",
       "  verbose=False)"
      ]
     },
     "execution_count": 178,
     "metadata": {},
     "output_type": "execute_result"
    }
   ],
   "source": [
    "Clf = LogisticRegression(C =  0.8 , tol = 1,   penalty = 'l2' , fit_intercept = False , class_weight='balanced' , max_iter=10000 , multi_class = 'ovr' , solver= 'lbfgs' , random_state=2)\n",
    "ABC = ExtraTreesClassifier(n_estimators= 200 , min_samples_split = 5,min_samples_leaf=0.01, criterion = 'entropy',random_state=1 , n_jobs = -1 )\n",
    "NA = MultinomialNB(alpha= 0.04 )\n",
    "SV = SVC(probability=True, random_state=1, C= 9, gamma= 0.5)\n",
    "###############################\n",
    "Clf.fit(X_train_all ,Y)\n",
    "ABC.fit(X_train_all ,Y)\n",
    "NA.fit(X_train_all  ,Y)\n",
    "SV.fit(X_train_all , Y)"
   ]
  },
  {
   "cell_type": "code",
   "execution_count": 179,
   "metadata": {
    "collapsed": true
   },
   "outputs": [],
   "source": [
    "########################\n",
    "Korona2 = pd.DataFrame()\n",
    "Korona2['LogisticRegression'] = Clf.predict_proba(X_train_all)[:,1]\n",
    "Korona2['ExtraTreesClassifier'] = ABC.predict_proba(X_train_all)[:,1]\n",
    "Korona2['MultinomialNB'] = NA.predict_proba(X_train_all)[:,1]\n",
    "Korona2['SVC'] = SV.predict_proba(X_train_all)[:,1]\n",
    "Korona2['RandomForestClassifier'] = clf4.predict_proba(DF)[:,1]\n",
    "#Korona2['GradiantBoostingClassifier'] = DT['GB'] GB --> LOW SCORE ON PUBLIC BOARD\n",
    "Korona2['GradiantBoostingClassifier'] = DT['XT']\n",
    "Korona2['RandomForestClassifier'] = clf4.predict_proba(DF)[:,1]\n",
    "Korona2['RF'] = DT['RF']\n",
    "Korona2['ABCn'] = DT['ABCn']\n",
    "Korona2['ABC'] = DT['ABC']\n",
    "Korona['Action'] = YTRAIN\n"
   ]
  },
  {
   "cell_type": "code",
   "execution_count": 239,
   "metadata": {
    "collapsed": false
   },
   "outputs": [
    {
     "data": {
      "text/html": [
       "<div>\n",
       "<table border=\"1\" class=\"dataframe\">\n",
       "  <thead>\n",
       "    <tr style=\"text-align: right;\">\n",
       "      <th></th>\n",
       "      <th>LogisticRegression</th>\n",
       "      <th>ExtraTreesClassifier</th>\n",
       "      <th>MultinomialNB</th>\n",
       "      <th>SVC</th>\n",
       "      <th>Action</th>\n",
       "      <th>RandomForestClassifier</th>\n",
       "      <th>GradiantBoostingClassifier</th>\n",
       "      <th>RF</th>\n",
       "      <th>ABCn</th>\n",
       "      <th>ABC</th>\n",
       "    </tr>\n",
       "  </thead>\n",
       "  <tbody>\n",
       "    <tr>\n",
       "      <th>0</th>\n",
       "      <td>0.990381</td>\n",
       "      <td>1.000000</td>\n",
       "      <td>0.999962</td>\n",
       "      <td>0.980334</td>\n",
       "      <td>1</td>\n",
       "      <td>0.994530</td>\n",
       "      <td>0.998567</td>\n",
       "      <td>0.997622</td>\n",
       "      <td>0.984622</td>\n",
       "      <td>0.928572</td>\n",
       "    </tr>\n",
       "    <tr>\n",
       "      <th>1</th>\n",
       "      <td>0.936808</td>\n",
       "      <td>0.997500</td>\n",
       "      <td>0.999947</td>\n",
       "      <td>0.980363</td>\n",
       "      <td>1</td>\n",
       "      <td>0.963492</td>\n",
       "      <td>0.966326</td>\n",
       "      <td>0.955832</td>\n",
       "      <td>0.963648</td>\n",
       "      <td>0.887020</td>\n",
       "    </tr>\n",
       "    <tr>\n",
       "      <th>2</th>\n",
       "      <td>0.750225</td>\n",
       "      <td>0.982500</td>\n",
       "      <td>0.978939</td>\n",
       "      <td>0.980318</td>\n",
       "      <td>1</td>\n",
       "      <td>0.916217</td>\n",
       "      <td>0.988525</td>\n",
       "      <td>0.908988</td>\n",
       "      <td>0.897310</td>\n",
       "      <td>0.799879</td>\n",
       "    </tr>\n",
       "    <tr>\n",
       "      <th>3</th>\n",
       "      <td>0.977326</td>\n",
       "      <td>1.000000</td>\n",
       "      <td>0.999972</td>\n",
       "      <td>0.980618</td>\n",
       "      <td>1</td>\n",
       "      <td>0.994417</td>\n",
       "      <td>0.987551</td>\n",
       "      <td>0.980117</td>\n",
       "      <td>0.975305</td>\n",
       "      <td>0.890264</td>\n",
       "    </tr>\n",
       "    <tr>\n",
       "      <th>4</th>\n",
       "      <td>0.719636</td>\n",
       "      <td>0.998333</td>\n",
       "      <td>0.976973</td>\n",
       "      <td>0.980353</td>\n",
       "      <td>1</td>\n",
       "      <td>0.961037</td>\n",
       "      <td>0.947103</td>\n",
       "      <td>0.975461</td>\n",
       "      <td>0.952147</td>\n",
       "      <td>0.869679</td>\n",
       "    </tr>\n",
       "  </tbody>\n",
       "</table>\n",
       "</div>"
      ],
      "text/plain": [
       "   LogisticRegression  ExtraTreesClassifier  MultinomialNB       SVC  Action  \\\n",
       "0            0.990381              1.000000       0.999962  0.980334       1   \n",
       "1            0.936808              0.997500       0.999947  0.980363       1   \n",
       "2            0.750225              0.982500       0.978939  0.980318       1   \n",
       "3            0.977326              1.000000       0.999972  0.980618       1   \n",
       "4            0.719636              0.998333       0.976973  0.980353       1   \n",
       "\n",
       "   RandomForestClassifier  GradiantBoostingClassifier        RF      ABCn  \\\n",
       "0                0.994530                    0.998567  0.997622  0.984622   \n",
       "1                0.963492                    0.966326  0.955832  0.963648   \n",
       "2                0.916217                    0.988525  0.908988  0.897310   \n",
       "3                0.994417                    0.987551  0.980117  0.975305   \n",
       "4                0.961037                    0.947103  0.975461  0.952147   \n",
       "\n",
       "        ABC  \n",
       "0  0.928572  \n",
       "1  0.887020  \n",
       "2  0.799879  \n",
       "3  0.890264  \n",
       "4  0.869679  "
      ]
     },
     "execution_count": 239,
     "metadata": {},
     "output_type": "execute_result"
    }
   ],
   "source": [
    "Korona2.head()"
   ]
  },
  {
   "cell_type": "code",
   "execution_count": 237,
   "metadata": {
    "collapsed": false
   },
   "outputs": [
    {
     "data": {
      "text/html": [
       "<div>\n",
       "<table border=\"1\" class=\"dataframe\">\n",
       "  <thead>\n",
       "    <tr style=\"text-align: right;\">\n",
       "      <th></th>\n",
       "      <th>Unnamed: 0</th>\n",
       "      <th>LR</th>\n",
       "      <th>NB</th>\n",
       "      <th>SVC</th>\n",
       "      <th>XT</th>\n",
       "      <th>KN</th>\n",
       "    </tr>\n",
       "  </thead>\n",
       "  <tbody>\n",
       "    <tr>\n",
       "      <th>0</th>\n",
       "      <td>0</td>\n",
       "      <td>0.994146</td>\n",
       "      <td>0.999830</td>\n",
       "      <td>0.979237</td>\n",
       "      <td>1.000000</td>\n",
       "      <td>NaN</td>\n",
       "    </tr>\n",
       "    <tr>\n",
       "      <th>1</th>\n",
       "      <td>1</td>\n",
       "      <td>0.992071</td>\n",
       "      <td>0.999988</td>\n",
       "      <td>0.976685</td>\n",
       "      <td>0.998684</td>\n",
       "      <td>NaN</td>\n",
       "    </tr>\n",
       "    <tr>\n",
       "      <th>2</th>\n",
       "      <td>2</td>\n",
       "      <td>0.975762</td>\n",
       "      <td>0.998207</td>\n",
       "      <td>0.962786</td>\n",
       "      <td>0.993421</td>\n",
       "      <td>NaN</td>\n",
       "    </tr>\n",
       "    <tr>\n",
       "      <th>3</th>\n",
       "      <td>3</td>\n",
       "      <td>0.993063</td>\n",
       "      <td>0.999543</td>\n",
       "      <td>0.983093</td>\n",
       "      <td>1.000000</td>\n",
       "      <td>NaN</td>\n",
       "    </tr>\n",
       "    <tr>\n",
       "      <th>4</th>\n",
       "      <td>4</td>\n",
       "      <td>0.985266</td>\n",
       "      <td>0.999927</td>\n",
       "      <td>0.976292</td>\n",
       "      <td>1.000000</td>\n",
       "      <td>NaN</td>\n",
       "    </tr>\n",
       "  </tbody>\n",
       "</table>\n",
       "</div>"
      ],
      "text/plain": [
       "   Unnamed: 0        LR        NB       SVC        XT  KN\n",
       "0           0  0.994146  0.999830  0.979237  1.000000 NaN\n",
       "1           1  0.992071  0.999988  0.976685  0.998684 NaN\n",
       "2           2  0.975762  0.998207  0.962786  0.993421 NaN\n",
       "3           3  0.993063  0.999543  0.983093  1.000000 NaN\n",
       "4           4  0.985266  0.999927  0.976292  1.000000 NaN"
      ]
     },
     "execution_count": 237,
     "metadata": {},
     "output_type": "execute_result"
    }
   ],
   "source": [
    "D21.head()"
   ]
  },
  {
   "cell_type": "code",
   "execution_count": 278,
   "metadata": {
    "collapsed": false
   },
   "outputs": [],
   "source": [
    "Korona2['Voting'] = DT['Voting']"
   ]
  },
  {
   "cell_type": "code",
   "execution_count": 226,
   "metadata": {
    "collapsed": true
   },
   "outputs": [],
   "source": []
  },
  {
   "cell_type": "code",
   "execution_count": 231,
   "metadata": {
    "collapsed": true
   },
   "outputs": [],
   "source": []
  },
  {
   "cell_type": "code",
   "execution_count": 215,
   "metadata": {
    "collapsed": false
   },
   "outputs": [
    {
     "data": {
      "text/html": [
       "<div>\n",
       "<table border=\"1\" class=\"dataframe\">\n",
       "  <thead>\n",
       "    <tr style=\"text-align: right;\">\n",
       "      <th></th>\n",
       "      <th>LogisticRegression</th>\n",
       "      <th>ExtraTreesClassifier</th>\n",
       "      <th>MultinomialNB</th>\n",
       "      <th>SVC</th>\n",
       "      <th>Action</th>\n",
       "      <th>RandomForestClassifier</th>\n",
       "      <th>GradiantBoostingClassifier</th>\n",
       "    </tr>\n",
       "  </thead>\n",
       "  <tbody>\n",
       "    <tr>\n",
       "      <th>0</th>\n",
       "      <td>0.990381</td>\n",
       "      <td>1.000000</td>\n",
       "      <td>0.999962</td>\n",
       "      <td>0.980334</td>\n",
       "      <td>1</td>\n",
       "      <td>0.994530</td>\n",
       "      <td>0.999992</td>\n",
       "    </tr>\n",
       "    <tr>\n",
       "      <th>1</th>\n",
       "      <td>0.936808</td>\n",
       "      <td>0.997500</td>\n",
       "      <td>0.999947</td>\n",
       "      <td>0.980363</td>\n",
       "      <td>1</td>\n",
       "      <td>0.963492</td>\n",
       "      <td>0.999962</td>\n",
       "    </tr>\n",
       "    <tr>\n",
       "      <th>2</th>\n",
       "      <td>0.750225</td>\n",
       "      <td>0.982500</td>\n",
       "      <td>0.978939</td>\n",
       "      <td>0.980318</td>\n",
       "      <td>1</td>\n",
       "      <td>0.916217</td>\n",
       "      <td>0.999970</td>\n",
       "    </tr>\n",
       "    <tr>\n",
       "      <th>3</th>\n",
       "      <td>0.977326</td>\n",
       "      <td>1.000000</td>\n",
       "      <td>0.999972</td>\n",
       "      <td>0.980618</td>\n",
       "      <td>1</td>\n",
       "      <td>0.994417</td>\n",
       "      <td>0.999871</td>\n",
       "    </tr>\n",
       "    <tr>\n",
       "      <th>4</th>\n",
       "      <td>0.719636</td>\n",
       "      <td>0.998333</td>\n",
       "      <td>0.976973</td>\n",
       "      <td>0.980353</td>\n",
       "      <td>1</td>\n",
       "      <td>0.961037</td>\n",
       "      <td>0.999998</td>\n",
       "    </tr>\n",
       "  </tbody>\n",
       "</table>\n",
       "</div>"
      ],
      "text/plain": [
       "   LogisticRegression  ExtraTreesClassifier  MultinomialNB       SVC  Action  \\\n",
       "0            0.990381              1.000000       0.999962  0.980334       1   \n",
       "1            0.936808              0.997500       0.999947  0.980363       1   \n",
       "2            0.750225              0.982500       0.978939  0.980318       1   \n",
       "3            0.977326              1.000000       0.999972  0.980618       1   \n",
       "4            0.719636              0.998333       0.976973  0.980353       1   \n",
       "\n",
       "   RandomForestClassifier  GradiantBoostingClassifier  \n",
       "0                0.994530                    0.999992  \n",
       "1                0.963492                    0.999962  \n",
       "2                0.916217                    0.999970  \n",
       "3                0.994417                    0.999871  \n",
       "4                0.961037                    0.999998  "
      ]
     },
     "execution_count": 215,
     "metadata": {},
     "output_type": "execute_result"
    }
   ],
   "source": [
    "Korona2.head()"
   ]
  },
  {
   "cell_type": "code",
   "execution_count": 307,
   "metadata": {
    "collapsed": false
   },
   "outputs": [
    {
     "data": {
      "text/plain": [
       "LogisticRegression(C=6, class_weight='balanced', dual=False,\n",
       "          fit_intercept=True, intercept_scaling=100, max_iter=100,\n",
       "          multi_class='ovr', n_jobs=1, penalty='l2', random_state=1,\n",
       "          solver='liblinear', tol=0.0001, verbose=0, warm_start=False)"
      ]
     },
     "execution_count": 307,
     "metadata": {},
     "output_type": "execute_result"
    }
   ],
   "source": [
    "RegFinal = LogisticRegression(C=6, intercept_scaling = 100, class_weight =\"balanced\" , random_state=1)\n",
    "RegFinal.fit(Korona2.drop(['Action'] , axis =1) , Y)"
   ]
  },
  {
   "cell_type": "code",
   "execution_count": 183,
   "metadata": {
    "collapsed": false
   },
   "outputs": [],
   "source": [
    "Korona3 = pd.DataFrame()\n",
    "Korona3['LogisticRegression'] = Clf.predict_proba(X_test_all)[:,1]\n",
    "Korona3['ExtraTreesClassifier'] = ABC.predict_proba(X_test_all)[:,1]\n",
    "Korona3['MultinomialNB'] = NA.predict_proba(X_test_all)[:,1]\n",
    "Korona3['SVC'] = SV.predict_proba(X_test_all)[:,1]\n",
    "Korona3['RandomForestClassifier'] = clf4.predict_proba(TEST)[:,1]\n",
    "Korona3['GradiantBoostingClassifier'] = DT2['XT']\n",
    "Korona3['RF'] = DT2['RF']\n",
    "Korona3['ABCn'] = DT2['ABCn']\n",
    "Korona3['ABC'] = DT2['ABC']"
   ]
  },
  {
   "cell_type": "code",
   "execution_count": 200,
   "metadata": {
    "collapsed": true
   },
   "outputs": [],
   "source": [
    "Korona3['RandomForestClassifier'] = clf4.predict_proba(TEST)[:,1]"
   ]
  },
  {
   "cell_type": "code",
   "execution_count": 218,
   "metadata": {
    "collapsed": true
   },
   "outputs": [],
   "source": [
    "Korona3['GradiantBoostingClassifier'] = DT2['XT']"
   ]
  },
  {
   "cell_type": "code",
   "execution_count": 223,
   "metadata": {
    "collapsed": true
   },
   "outputs": [],
   "source": [
    "Korona3['RF'] = DT2['RF']"
   ]
  },
  {
   "cell_type": "code",
   "execution_count": 228,
   "metadata": {
    "collapsed": true
   },
   "outputs": [],
   "source": [
    "Korona3['ABCn'] = DT2['ABCn']"
   ]
  },
  {
   "cell_type": "code",
   "execution_count": 233,
   "metadata": {
    "collapsed": true
   },
   "outputs": [],
   "source": [
    "Korona3['ABC'] = DT2['ABC']"
   ]
  },
  {
   "cell_type": "code",
   "execution_count": 279,
   "metadata": {
    "collapsed": true
   },
   "outputs": [],
   "source": [
    "Korona3['Voting'] = DT2['Voting']"
   ]
  },
  {
   "cell_type": "code",
   "execution_count": 310,
   "metadata": {
    "collapsed": true
   },
   "outputs": [],
   "source": [
    "Korona2.to_csv('TRAIN2.csv' , index = False)\n",
    "Korona3.to_csv('TEST2.csv' , index = False)"
   ]
  },
  {
   "cell_type": "code",
   "execution_count": 308,
   "metadata": {
    "collapsed": false
   },
   "outputs": [],
   "source": [
    "YFINAL = RegFinal.predict_proba(Korona3.drop(['ANOUR_PREDICTION'] , axis = 1  ))[:,1]"
   ]
  },
  {
   "cell_type": "code",
   "execution_count": 309,
   "metadata": {
    "collapsed": true
   },
   "outputs": [],
   "source": [
    "DR = pd.read_csv('sampleSubmission.csv')\n",
    "DR =pd.DataFrame(DR)\n",
    "DR['Action']=YFINAL\n",
    "DR.to_csv('f9.csv' , index = False)"
   ]
  },
  {
   "cell_type": "code",
   "execution_count": null,
   "metadata": {
    "collapsed": true
   },
   "outputs": [],
   "source": []
  }
 ],
 "metadata": {
  "kernelspec": {
   "display_name": "Python 2",
   "language": "python",
   "name": "python2"
  },
  "language_info": {
   "codemirror_mode": {
    "name": "ipython",
    "version": 2
   },
   "file_extension": ".py",
   "mimetype": "text/x-python",
   "name": "python",
   "nbconvert_exporter": "python",
   "pygments_lexer": "ipython2",
   "version": "2.7.11"
  }
 },
 "nbformat": 4,
 "nbformat_minor": 0
}
